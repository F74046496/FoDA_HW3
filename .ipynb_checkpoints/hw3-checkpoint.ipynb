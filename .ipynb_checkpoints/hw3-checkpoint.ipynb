{
 "cells": [
  {
   "cell_type": "markdown",
   "metadata": {},
   "source": [
    "## HW3\n",
    "### 宣告"
   ]
  },
  {
   "cell_type": "code",
   "execution_count": 1,
   "metadata": {},
   "outputs": [],
   "source": [
    "import matplotlib.pyplot as plt\n",
    "import numpy as np\n",
    "import pandas as pd\n",
    "from sklearn import linear_model, metrics, model_selection\n",
    "from sklearn.linear_model import LogisticRegression\n",
    "from sklearn.svm import SVC\n",
    "from sklearn.neural_network import MLPClassifier"
   ]
  },
  {
   "cell_type": "markdown",
   "metadata": {},
   "source": [
    "### 讀檔產生 training data 與 test data"
   ]
  },
  {
   "cell_type": "code",
   "execution_count": 59,
   "metadata": {},
   "outputs": [
    {
     "data": {
      "text/html": [
       "<div>\n",
       "<style scoped>\n",
       "    .dataframe tbody tr th:only-of-type {\n",
       "        vertical-align: middle;\n",
       "    }\n",
       "\n",
       "    .dataframe tbody tr th {\n",
       "        vertical-align: top;\n",
       "    }\n",
       "\n",
       "    .dataframe thead th {\n",
       "        text-align: right;\n",
       "    }\n",
       "</style>\n",
       "<table border=\"1\" class=\"dataframe\">\n",
       "  <thead>\n",
       "    <tr style=\"text-align: right;\">\n",
       "      <th></th>\n",
       "      <th>Open Price</th>\n",
       "      <th>Close Price</th>\n",
       "      <th>High Price</th>\n",
       "      <th>Low Price</th>\n",
       "      <th>Volume</th>\n",
       "    </tr>\n",
       "    <tr>\n",
       "      <th>Date</th>\n",
       "      <th></th>\n",
       "      <th></th>\n",
       "      <th></th>\n",
       "      <th></th>\n",
       "      <th></th>\n",
       "    </tr>\n",
       "  </thead>\n",
       "  <tbody>\n",
       "    <tr>\n",
       "      <th>02-Jan-2009</th>\n",
       "      <td>902.99</td>\n",
       "      <td>931.80</td>\n",
       "      <td>934.73</td>\n",
       "      <td>899.35</td>\n",
       "      <td>4048270080</td>\n",
       "    </tr>\n",
       "    <tr>\n",
       "      <th>05-Jan-2009</th>\n",
       "      <td>929.17</td>\n",
       "      <td>927.45</td>\n",
       "      <td>936.63</td>\n",
       "      <td>919.53</td>\n",
       "      <td>5413910016</td>\n",
       "    </tr>\n",
       "    <tr>\n",
       "      <th>06-Jan-2009</th>\n",
       "      <td>931.17</td>\n",
       "      <td>934.70</td>\n",
       "      <td>943.85</td>\n",
       "      <td>927.28</td>\n",
       "      <td>5392620032</td>\n",
       "    </tr>\n",
       "    <tr>\n",
       "      <th>07-Jan-2009</th>\n",
       "      <td>927.45</td>\n",
       "      <td>906.65</td>\n",
       "      <td>927.45</td>\n",
       "      <td>902.37</td>\n",
       "      <td>4704940032</td>\n",
       "    </tr>\n",
       "    <tr>\n",
       "      <th>08-Jan-2009</th>\n",
       "      <td>905.73</td>\n",
       "      <td>909.73</td>\n",
       "      <td>910.00</td>\n",
       "      <td>896.81</td>\n",
       "      <td>4991549952</td>\n",
       "    </tr>\n",
       "  </tbody>\n",
       "</table>\n",
       "</div>"
      ],
      "text/plain": [
       "             Open Price  Close Price  High Price  Low Price      Volume\n",
       "Date                                                                   \n",
       "02-Jan-2009      902.99       931.80      934.73     899.35  4048270080\n",
       "05-Jan-2009      929.17       927.45      936.63     919.53  5413910016\n",
       "06-Jan-2009      931.17       934.70      943.85     927.28  5392620032\n",
       "07-Jan-2009      927.45       906.65      927.45     902.37  4704940032\n",
       "08-Jan-2009      905.73       909.73      910.00     896.81  4991549952"
      ]
     },
     "execution_count": 59,
     "metadata": {},
     "output_type": "execute_result"
    }
   ],
   "source": [
    "train_name = 'Training set.csv'\n",
    "data_train = pd.read_csv(train_name, sep=',', index_col=0)\n",
    "test_name = 'Test set.csv'\n",
    "data_test = pd.read_csv(test_name, sep=',', index_col=0)\n",
    "data_train.head()"
   ]
  },
  {
   "cell_type": "markdown",
   "metadata": {},
   "source": [
    "### 透過上一天的 Close Price 比對當日 Close Price 判斷漲跌"
   ]
  },
  {
   "cell_type": "code",
   "execution_count": 60,
   "metadata": {},
   "outputs": [
    {
     "data": {
      "text/html": [
       "<div>\n",
       "<style scoped>\n",
       "    .dataframe tbody tr th:only-of-type {\n",
       "        vertical-align: middle;\n",
       "    }\n",
       "\n",
       "    .dataframe tbody tr th {\n",
       "        vertical-align: top;\n",
       "    }\n",
       "\n",
       "    .dataframe thead th {\n",
       "        text-align: right;\n",
       "    }\n",
       "</style>\n",
       "<table border=\"1\" class=\"dataframe\">\n",
       "  <thead>\n",
       "    <tr style=\"text-align: right;\">\n",
       "      <th></th>\n",
       "      <th>Open Price</th>\n",
       "      <th>Close Price</th>\n",
       "      <th>High Price</th>\n",
       "      <th>Low Price</th>\n",
       "      <th>Volume</th>\n",
       "      <th>Close Price Inc</th>\n",
       "    </tr>\n",
       "    <tr>\n",
       "      <th>Date</th>\n",
       "      <th></th>\n",
       "      <th></th>\n",
       "      <th></th>\n",
       "      <th></th>\n",
       "      <th></th>\n",
       "      <th></th>\n",
       "    </tr>\n",
       "  </thead>\n",
       "  <tbody>\n",
       "    <tr>\n",
       "      <th>02-Jan-2009</th>\n",
       "      <td>902.99</td>\n",
       "      <td>931.80</td>\n",
       "      <td>934.73</td>\n",
       "      <td>899.35</td>\n",
       "      <td>4048270080</td>\n",
       "      <td>False</td>\n",
       "    </tr>\n",
       "    <tr>\n",
       "      <th>05-Jan-2009</th>\n",
       "      <td>929.17</td>\n",
       "      <td>927.45</td>\n",
       "      <td>936.63</td>\n",
       "      <td>919.53</td>\n",
       "      <td>5413910016</td>\n",
       "      <td>False</td>\n",
       "    </tr>\n",
       "    <tr>\n",
       "      <th>06-Jan-2009</th>\n",
       "      <td>931.17</td>\n",
       "      <td>934.70</td>\n",
       "      <td>943.85</td>\n",
       "      <td>927.28</td>\n",
       "      <td>5392620032</td>\n",
       "      <td>True</td>\n",
       "    </tr>\n",
       "    <tr>\n",
       "      <th>07-Jan-2009</th>\n",
       "      <td>927.45</td>\n",
       "      <td>906.65</td>\n",
       "      <td>927.45</td>\n",
       "      <td>902.37</td>\n",
       "      <td>4704940032</td>\n",
       "      <td>False</td>\n",
       "    </tr>\n",
       "    <tr>\n",
       "      <th>08-Jan-2009</th>\n",
       "      <td>905.73</td>\n",
       "      <td>909.73</td>\n",
       "      <td>910.00</td>\n",
       "      <td>896.81</td>\n",
       "      <td>4991549952</td>\n",
       "      <td>True</td>\n",
       "    </tr>\n",
       "  </tbody>\n",
       "</table>\n",
       "</div>"
      ],
      "text/plain": [
       "             Open Price  Close Price  High Price  Low Price      Volume  \\\n",
       "Date                                                                      \n",
       "02-Jan-2009      902.99       931.80      934.73     899.35  4048270080   \n",
       "05-Jan-2009      929.17       927.45      936.63     919.53  5413910016   \n",
       "06-Jan-2009      931.17       934.70      943.85     927.28  5392620032   \n",
       "07-Jan-2009      927.45       906.65      927.45     902.37  4704940032   \n",
       "08-Jan-2009      905.73       909.73      910.00     896.81  4991549952   \n",
       "\n",
       "             Close Price Inc  \n",
       "Date                          \n",
       "02-Jan-2009            False  \n",
       "05-Jan-2009            False  \n",
       "06-Jan-2009             True  \n",
       "07-Jan-2009            False  \n",
       "08-Jan-2009             True  "
      ]
     },
     "execution_count": 60,
     "metadata": {},
     "output_type": "execute_result"
    }
   ],
   "source": [
    "data_train['Close Price Last Time'] = data_train['Close Price'].shift(1)\n",
    "data_train['Close Price Inc'] = data_train['Close Price'] > data_train['Close Price Last Time']\n",
    "data_train = data_train.drop(['Close Price Last Time'], axis=1)\n",
    "data_test['Close Price Last Time'] = data_test['Close Price'].shift(1)\n",
    "data_test['Close Price Inc'] = data_test['Close Price'] > data_test['Close Price Last Time']\n",
    "data_test = data_test.drop(['Close Price Last Time'], axis=1)\n",
    "data_train.head()"
   ]
  },
  {
   "cell_type": "markdown",
   "metadata": {},
   "source": [
    "### 將資料分割處理好"
   ]
  },
  {
   "cell_type": "code",
   "execution_count": 61,
   "metadata": {},
   "outputs": [],
   "source": [
    "x_train = data_train.loc[:, data_train.columns != 'Close Price Inc']\n",
    "y_train = data_train['Close Price Inc']\n",
    "x_test = data_test.loc[:, data_test.columns != 'Close Price Inc']\n",
    "y_test = data_test['Close Price Inc']"
   ]
  },
  {
   "cell_type": "markdown",
   "metadata": {},
   "source": [
    "### Logistic Regression"
   ]
  },
  {
   "cell_type": "code",
   "execution_count": 62,
   "metadata": {},
   "outputs": [
    {
     "name": "stdout",
     "output_type": "stream",
     "text": [
      "LogisticRegression accuracy: 0.5198412698412699\n"
     ]
    }
   ],
   "source": [
    "clf = LogisticRegression(solver='lbfgs').fit(x_train, y_train)\n",
    "clf.fit(x_train, y_train)\n",
    "\n",
    "lr_acc = metrics.accuracy_score(y_test, clf.predict(x_test))\n",
    "print('LogisticRegression accuracy: %s' % lr_acc)"
   ]
  },
  {
   "cell_type": "markdown",
   "metadata": {},
   "source": [
    "### SVM"
   ]
  },
  {
   "cell_type": "code",
   "execution_count": 63,
   "metadata": {},
   "outputs": [
    {
     "name": "stdout",
     "output_type": "stream",
     "text": [
      "SVM accuracy: 0.5198412698412699\n"
     ]
    }
   ],
   "source": [
    "clf2 = SVC(gamma='auto')\n",
    "clf2.fit(x_train, y_train)\n",
    "\n",
    "svm_acc = metrics.accuracy_score(y_test, clf2.predict(x_test))\n",
    "print('SVM accuracy: %s' % svm_acc)"
   ]
  },
  {
   "cell_type": "markdown",
   "metadata": {},
   "source": [
    "### Neural Network"
   ]
  },
  {
   "cell_type": "code",
   "execution_count": 64,
   "metadata": {},
   "outputs": [
    {
     "name": "stdout",
     "output_type": "stream",
     "text": [
      "NN(lbfgs) accuracy: 0.5198412698412699\n"
     ]
    }
   ],
   "source": [
    "clf3 = MLPClassifier(hidden_layer_sizes=(50, 50), solver='lbfgs', alpha = 1e-4)\n",
    "clf3.fit(x_train, y_train)\n",
    "\n",
    "nn1_acc = metrics.accuracy_score(y_test, clf3.predict(x_test))\n",
    "print('NN(lbfgs) accuracy: %s' % nn1_acc)"
   ]
  },
  {
   "cell_type": "code",
   "execution_count": 65,
   "metadata": {},
   "outputs": [
    {
     "name": "stdout",
     "output_type": "stream",
     "text": [
      "NN(adam) accuracy: 0.4801587301587302\n"
     ]
    }
   ],
   "source": [
    "clf4 = MLPClassifier(hidden_layer_sizes=(50, 50), solver='adam', alpha = 1e-4, epsilon = 1e-8)\n",
    "clf4.fit(x_train, y_train)\n",
    "\n",
    "nn2_acc = metrics.accuracy_score(y_test, clf4.predict(x_test))\n",
    "print('NN(adam) accuracy: %s' % nn2_acc)"
   ]
  },
  {
   "cell_type": "code",
   "execution_count": null,
   "metadata": {},
   "outputs": [],
   "source": []
  }
 ],
 "metadata": {
  "kernelspec": {
   "display_name": "Python 3",
   "language": "python",
   "name": "python3"
  },
  "language_info": {
   "codemirror_mode": {
    "name": "ipython",
    "version": 3
   },
   "file_extension": ".py",
   "mimetype": "text/x-python",
   "name": "python",
   "nbconvert_exporter": "python",
   "pygments_lexer": "ipython3",
   "version": "3.7.1"
  }
 },
 "nbformat": 4,
 "nbformat_minor": 2
}
